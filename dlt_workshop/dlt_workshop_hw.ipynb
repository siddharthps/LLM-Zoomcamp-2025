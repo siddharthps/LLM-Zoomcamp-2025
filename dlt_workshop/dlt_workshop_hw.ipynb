{
  "nbformat": 4,
  "nbformat_minor": 0,
  "metadata": {
    "colab": {
      "provenance": [],
      "authorship_tag": "ABX9TyMWkxg1zDjjrk88n05jfhcb"
    },
    "kernelspec": {
      "name": "python3",
      "display_name": "Python 3"
    },
    "language_info": {
      "name": "python"
    }
  },
  "cells": [
    {
      "cell_type": "code",
      "execution_count": 1,
      "metadata": {
        "id": "zeE8Nkxudxd0"
      },
      "outputs": [],
      "source": [
        "pip install -q \"dlt[qdrant]\" \"qdrant-client[fastembed]\""
      ]
    },
    {
      "cell_type": "code",
      "source": [
        "import dlt\n",
        "import requests"
      ],
      "metadata": {
        "id": "5U_1v2K4ePg1"
      },
      "execution_count": 2,
      "outputs": []
    },
    {
      "cell_type": "markdown",
      "source": [
        "### Question 1. dlt Version"
      ],
      "metadata": {
        "id": "rdHI3zzyeViT"
      }
    },
    {
      "cell_type": "code",
      "source": [
        "print(f\"The Version of dlt that was installed was {dlt.__version__}\")"
      ],
      "metadata": {
        "colab": {
          "base_uri": "https://localhost:8080/"
        },
        "id": "XA0R2zsleW_y",
        "outputId": "7d24fbb7-646d-49b1-b891-d8cec3b8515d"
      },
      "execution_count": 3,
      "outputs": [
        {
          "output_type": "stream",
          "name": "stdout",
          "text": [
            "The Version of dlt that was installed was 1.13.0\n"
          ]
        }
      ]
    },
    {
      "cell_type": "markdown",
      "source": [
        "### dlt Resource"
      ],
      "metadata": {
        "id": "ivDhz3BaexTw"
      }
    },
    {
      "cell_type": "code",
      "source": [
        "import dlt\n",
        "import requests\n",
        "\n",
        "@dlt.resource\n",
        "def zoomcamp_data():\n",
        "    docs_url = 'https://github.com/alexeygrigorev/llm-rag-workshop/raw/main/notebooks/documents.json'\n",
        "    docs_response = requests.get(docs_url)\n",
        "    documents_raw = docs_response.json()\n",
        "\n",
        "    for course in documents_raw:\n",
        "        course_name = course['course']\n",
        "\n",
        "        for doc in course['documents']:\n",
        "            doc['course'] = course_name\n",
        "            yield doc"
      ],
      "metadata": {
        "id": "3xhAcxUVewux"
      },
      "execution_count": 4,
      "outputs": []
    },
    {
      "cell_type": "markdown",
      "source": [
        "### Question 2. dlt pipeline"
      ],
      "metadata": {
        "id": "Z32eGwrbe1BP"
      }
    },
    {
      "cell_type": "code",
      "source": [
        "from dlt.destinations import qdrant\n",
        "\n",
        "qdrant_destination = qdrant(\n",
        "  qd_path=\"db.qdrant\",\n",
        ")"
      ],
      "metadata": {
        "id": "e4TKbs79e2jE"
      },
      "execution_count": 5,
      "outputs": []
    },
    {
      "cell_type": "code",
      "source": [
        "pipeline = dlt.pipeline(\n",
        "    pipeline_name=\"zoomcamp_pipeline\",\n",
        "    destination=qdrant_destination,\n",
        "    dataset_name=\"zoomcamp_tagged_data\"\n",
        "\n",
        ")\n",
        "load_info = pipeline.run(zoomcamp_data())\n",
        "print(pipeline.last_trace)"
      ],
      "metadata": {
        "colab": {
          "base_uri": "https://localhost:8080/"
        },
        "id": "8UGDPnRvfBbK",
        "outputId": "9f620649-25a8-498f-cab4-3d0916557303"
      },
      "execution_count": 6,
      "outputs": [
        {
          "output_type": "stream",
          "name": "stdout",
          "text": [
            "Run started at 2025-07-10 22:45:28.226990+00:00 and COMPLETED in 21.95 seconds with 4 steps.\n",
            "Step extract COMPLETED in 0.50 seconds.\n",
            "\n",
            "Load package 1752187538.587544 is EXTRACTED and NOT YET LOADED to the destination and contains no failed jobs\n",
            "\n",
            "Step normalize COMPLETED in 0.11 seconds.\n",
            "Normalized data for the following tables:\n",
            "- zoomcamp_data: 948 row(s)\n",
            "\n",
            "Load package 1752187538.587544 is NORMALIZED and NOT YET LOADED to the destination and contains no failed jobs\n",
            "\n",
            "Step load COMPLETED in 11.16 seconds.\n",
            "Pipeline zoomcamp_pipeline load step completed in 11.13 seconds\n",
            "1 load package(s) were loaded to destination qdrant and into dataset zoomcamp_tagged_data\n",
            "The qdrant destination used /content/db.qdrant location to store data\n",
            "Load package 1752187538.587544 is LOADED and contains no failed jobs\n",
            "\n",
            "Step run COMPLETED in 21.94 seconds.\n",
            "Pipeline zoomcamp_pipeline load step completed in 11.13 seconds\n",
            "1 load package(s) were loaded to destination qdrant and into dataset zoomcamp_tagged_data\n",
            "The qdrant destination used /content/db.qdrant location to store data\n",
            "Load package 1752187538.587544 is LOADED and contains no failed jobs\n"
          ]
        }
      ]
    },
    {
      "cell_type": "markdown",
      "source": [
        "Based on the output above we see that 948 rows were inserted into the collection"
      ],
      "metadata": {
        "id": "_F5yu2wDfOzO"
      }
    },
    {
      "cell_type": "markdown",
      "source": [
        "### Question 3. Embeddings\n"
      ],
      "metadata": {
        "id": "DC7POv4Mfesm"
      }
    },
    {
      "cell_type": "code",
      "source": [
        "from pprint import pprint\n",
        "import json\n",
        "\n",
        "with open(\"db.qdrant/meta.json\", \"r\") as f:\n",
        "    meta = json.load(f)\n",
        "\n",
        "# Pretty print the JSON\n",
        "pprint(meta)"
      ],
      "metadata": {
        "colab": {
          "base_uri": "https://localhost:8080/"
        },
        "id": "WfJ9vK-egJQN",
        "outputId": "e47d1b64-bcd0-460a-d729-bc043ef0515c"
      },
      "execution_count": 8,
      "outputs": [
        {
          "output_type": "stream",
          "name": "stdout",
          "text": [
            "{'aliases': {},\n",
            " 'collections': {'zoomcamp_tagged_data': {'hnsw_config': None,\n",
            "                                          'init_from': None,\n",
            "                                          'on_disk_payload': None,\n",
            "                                          'optimizers_config': None,\n",
            "                                          'quantization_config': None,\n",
            "                                          'replication_factor': None,\n",
            "                                          'shard_number': None,\n",
            "                                          'sharding_method': None,\n",
            "                                          'sparse_vectors': None,\n",
            "                                          'strict_mode_config': None,\n",
            "                                          'vectors': {'fast-bge-small-en': {'datatype': None,\n",
            "                                                                            'distance': 'Cosine',\n",
            "                                                                            'hnsw_config': None,\n",
            "                                                                            'multivector_config': None,\n",
            "                                                                            'on_disk': None,\n",
            "                                                                            'quantization_config': None,\n",
            "                                                                            'size': 384}},\n",
            "                                          'wal_config': None,\n",
            "                                          'write_consistency_factor': None},\n",
            "                 'zoomcamp_tagged_data__dlt_loads': {'hnsw_config': None,\n",
            "                                                     'init_from': None,\n",
            "                                                     'on_disk_payload': None,\n",
            "                                                     'optimizers_config': None,\n",
            "                                                     'quantization_config': None,\n",
            "                                                     'replication_factor': None,\n",
            "                                                     'shard_number': None,\n",
            "                                                     'sharding_method': None,\n",
            "                                                     'sparse_vectors': None,\n",
            "                                                     'strict_mode_config': None,\n",
            "                                                     'vectors': {'fast-bge-small-en': {'datatype': None,\n",
            "                                                                                       'distance': 'Cosine',\n",
            "                                                                                       'hnsw_config': None,\n",
            "                                                                                       'multivector_config': None,\n",
            "                                                                                       'on_disk': None,\n",
            "                                                                                       'quantization_config': None,\n",
            "                                                                                       'size': 384}},\n",
            "                                                     'wal_config': None,\n",
            "                                                     'write_consistency_factor': None},\n",
            "                 'zoomcamp_tagged_data__dlt_pipeline_state': {'hnsw_config': None,\n",
            "                                                              'init_from': None,\n",
            "                                                              'on_disk_payload': None,\n",
            "                                                              'optimizers_config': None,\n",
            "                                                              'quantization_config': None,\n",
            "                                                              'replication_factor': None,\n",
            "                                                              'shard_number': None,\n",
            "                                                              'sharding_method': None,\n",
            "                                                              'sparse_vectors': None,\n",
            "                                                              'strict_mode_config': None,\n",
            "                                                              'vectors': {'fast-bge-small-en': {'datatype': None,\n",
            "                                                                                                'distance': 'Cosine',\n",
            "                                                                                                'hnsw_config': None,\n",
            "                                                                                                'multivector_config': None,\n",
            "                                                                                                'on_disk': None,\n",
            "                                                                                                'quantization_config': None,\n",
            "                                                                                                'size': 384}},\n",
            "                                                              'wal_config': None,\n",
            "                                                              'write_consistency_factor': None},\n",
            "                 'zoomcamp_tagged_data__dlt_version': {'hnsw_config': None,\n",
            "                                                       'init_from': None,\n",
            "                                                       'on_disk_payload': None,\n",
            "                                                       'optimizers_config': None,\n",
            "                                                       'quantization_config': None,\n",
            "                                                       'replication_factor': None,\n",
            "                                                       'shard_number': None,\n",
            "                                                       'sharding_method': None,\n",
            "                                                       'sparse_vectors': None,\n",
            "                                                       'strict_mode_config': None,\n",
            "                                                       'vectors': {'fast-bge-small-en': {'datatype': None,\n",
            "                                                                                         'distance': 'Cosine',\n",
            "                                                                                         'hnsw_config': None,\n",
            "                                                                                         'multivector_config': None,\n",
            "                                                                                         'on_disk': None,\n",
            "                                                                                         'quantization_config': None,\n",
            "                                                                                         'size': 384}},\n",
            "                                                       'wal_config': None,\n",
            "                                                       'write_consistency_factor': None},\n",
            "                 'zoomcamp_tagged_data_zoomcamp_data': {'hnsw_config': None,\n",
            "                                                        'init_from': None,\n",
            "                                                        'on_disk_payload': None,\n",
            "                                                        'optimizers_config': None,\n",
            "                                                        'quantization_config': None,\n",
            "                                                        'replication_factor': None,\n",
            "                                                        'shard_number': None,\n",
            "                                                        'sharding_method': None,\n",
            "                                                        'sparse_vectors': None,\n",
            "                                                        'strict_mode_config': None,\n",
            "                                                        'vectors': {'fast-bge-small-en': {'datatype': None,\n",
            "                                                                                          'distance': 'Cosine',\n",
            "                                                                                          'hnsw_config': None,\n",
            "                                                                                          'multivector_config': None,\n",
            "                                                                                          'on_disk': None,\n",
            "                                                                                          'quantization_config': None,\n",
            "                                                                                          'size': 384}},\n",
            "                                                        'wal_config': None,\n",
            "                                                        'write_consistency_factor': None}}}\n"
          ]
        }
      ]
    },
    {
      "cell_type": "code",
      "source": [
        "with open(\"db.qdrant/meta.json\", \"r\") as f:\n",
        "    meta = json.load(f)\n",
        "\n",
        "collection = meta[\"collections\"][\"zoomcamp_tagged_data_zoomcamp_data\"]\n",
        "\n",
        "# Get the name of the embedding model\n",
        "embedding_model_name = list(collection[\"vectors\"].keys())[0]\n",
        "print(\"Embedding model used:\", embedding_model_name)"
      ],
      "metadata": {
        "colab": {
          "base_uri": "https://localhost:8080/"
        },
        "id": "Xx2JxKj0fhBs",
        "outputId": "7ded58eb-3bbb-485d-c274-4842ac39bbc9"
      },
      "execution_count": 9,
      "outputs": [
        {
          "output_type": "stream",
          "name": "stdout",
          "text": [
            "Embedding model used: fast-bge-small-en\n"
          ]
        }
      ]
    }
  ]
}